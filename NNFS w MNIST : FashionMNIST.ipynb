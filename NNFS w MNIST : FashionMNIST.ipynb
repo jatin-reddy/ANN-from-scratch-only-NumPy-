{
 "cells": [
  {
   "cell_type": "code",
   "execution_count": null,
   "id": "40d9775d",
   "metadata": {},
   "outputs": [],
   "source": [
    "#Install Packages\n",
    "!pip install numpy\n",
    "!pip install pandas\n",
    "!pip install matplotlib\n",
    "!pip install scikit-learn\n",
    "!pip install keras\n",
    "!pip install tensorflow"
   ]
  },
  {
   "cell_type": "code",
   "execution_count": 2,
   "id": "1ca8bee9",
   "metadata": {},
   "outputs": [],
   "source": [
    "import numpy as np\n",
    "import sklearn\n",
    "\n",
    "# === LAYER ===\n",
    "class Layer():\n",
    "    def __init__(self, num_inputs, num_outputs):\n",
    "      self.weights = np.random.randn(num_inputs, num_outputs) * np.sqrt(2.0 / (num_inputs+num_outputs)) \n",
    "      self.biases = np.random.randn(1, num_outputs) \n",
    "\n",
    "    def forward(self, inputs):\n",
    "      self.inputs = inputs\n",
    "      self.outputs = np.dot(self.inputs, self.weights) + self.biases \n",
    "\n",
    "    def backward(self, del_z):\n",
    "      batch_size = self.inputs.shape[0]\n",
    "\n",
    "      self.del_w = np.dot(self.inputs.T, del_z) / batch_size\n",
    "      self.del_b = np.sum(del_z, axis=0, keepdims=True) / batch_size \n",
    "      self.del_z_prev = np.dot(del_z, self.weights.T) \n",
    "\n",
    "# === ACTIVATION: RELU ===\n",
    "class ReLU():\n",
    "    def forward(self, inputs):\n",
    "      self.inputs = inputs\n",
    "      self.output = np.maximum(0, inputs)\n",
    "\n",
    "    def backward(self, del_z):\n",
    "      self.del_z_prev = del_z.copy()\n",
    "      self.del_z_prev[self.inputs <= 0] = 0\n",
    "\n",
    "# === ACTIVATION: SOFTMAX ===\n",
    "class Softmax():\n",
    "    def forward(self, inputs):\n",
    "      exp_z = np.exp(inputs - np.max(inputs, axis=1, keepdims=True))\n",
    "      self.output = exp_z / np.sum(exp_z, axis=1, keepdims=True) \n",
    "\n",
    "# === LOSS: CROSS-ENTROPY ===\n",
    "class CategoricalCrossentropy:\n",
    "    def forward(self, y_pred, y_true):\n",
    "        y_pred_clipped = np.clip(y_pred, 1e-7, 1 - 1e-7)\n",
    "        if len(y_true.shape) == 2:\n",
    "            correct_confidences = np.sum(y_pred_clipped * y_true, axis=1)\n",
    "        else:\n",
    "            correct_confidences = y_pred_clipped[range(len(y_pred_clipped)), y_true]\n",
    "        return -np.mean(np.log(correct_confidences))\n",
    "\n",
    "# === COMBINED SOFTMAX + CROSS-ENTROPY BACKWARD ===\n",
    "class Softmax_CategoricalCrossentropy:\n",
    "    def backward(self, y_pred, y_true):\n",
    "        samples = len(y_pred)\n",
    "        if len(y_true.shape) == 2:\n",
    "            y_true = np.argmax(y_true, axis=1)\n",
    "        self.del_z_prev = y_pred.copy()\n",
    "        self.del_z_prev[range(samples), y_true] -= 1 \n",
    "        self.del_z_prev = self.del_z_prev / samples\n",
    "\n",
    "# === OPTIMIZER: SGD ===\n",
    "class SGD:\n",
    "    def __init__(self, learning_rate=0.01):\n",
    "        self.lr = learning_rate\n",
    "\n",
    "    def update_params(self, layer):\n",
    "        layer.weights -= self.lr * layer.del_w\n",
    "        layer.biases  -= self.lr * layer.del_b"
   ]
  },
  {
   "cell_type": "code",
   "execution_count": 3,
   "id": "badd89e3",
   "metadata": {},
   "outputs": [],
   "source": [
    "# === MLP ===\n",
    "# Allow for flexible number of hidden layers\n",
    "class MLP:\n",
    "    def __init__(self, layers:list, optimizer=None):\n",
    "      self.layer_count = len(layers)\n",
    "      self.hidden_layers = self.layer_count - 1\n",
    "      self.layers = [Layer(layers[i], layers[i+1]) for i in range(self.hidden_layers)]\n",
    "      self.activations = [ReLU() for _ in range(self.hidden_layers - 1)] + [Softmax()]\n",
    "      self.loss = CategoricalCrossentropy()\n",
    "      self.loss_activation = Softmax_CategoricalCrossentropy() \n",
    "      self.optimizer = optimizer\n",
    "\n",
    "    # Forward Propagation\n",
    "    def forward(self, x):\n",
    "      current = x\n",
    "      for layer, activation in zip(self.layers, self.activations):\n",
    "        layer.forward(current)              \n",
    "        activation.forward(layer.outputs)   \n",
    "        current = activation.output         \n",
    "      return current\n",
    "\n",
    "    # Backward Propagation\n",
    "    def backward(self, y_true):\n",
    "        self.loss_activation.backward(self.activations[-1].output, y_true)\n",
    "        grad_from_next_layer = self.loss_activation.del_z_prev \n",
    "        self.layers[-1].backward(grad_from_next_layer)\n",
    "        grad_from_next_layer = self.layers[-1].del_z_prev \n",
    "\n",
    "        self.optimizer.update_params(self.layers[-1])\n",
    "\n",
    "        for i in reversed(range(len(self.layers) - 1)):\n",
    "            current_activation = self.activations[i]  \n",
    "            current_layer = self.layers[i]            \n",
    "            current_activation.backward(grad_from_next_layer)\n",
    "            grad_to_layer_backward = current_activation.del_z_prev \n",
    "            current_layer.backward(grad_to_layer_backward)\n",
    "            grad_from_next_layer = current_layer.del_z_prev\n",
    "        \n",
    "        for layer in self.layers:\n",
    "            self.optimizer.update_params(layer)\n",
    "             \n",
    "\n",
    "    def fit(self, X_train, y_train, X_test, y_test, epochs=10, batch_size=64):\n",
    "        \n",
    "        # Data preparation (normalization)\n",
    "        X_train = X_train / 255.0\n",
    "        X_test = X_test / 255.0\n",
    "        \n",
    "        # One-hot encode the labels\n",
    "        y_train_one_hot = np.zeros((y_train.size, y_train.max() + 1))\n",
    "        y_train_one_hot[np.arange(y_train.size), y_train] = 1\n",
    "        \n",
    "        y_test_one_hot = np.zeros((y_test.size, y_test.max() + 1))\n",
    "        y_test_one_hot[np.arange(y_test.size), y_test] = 1\n",
    "\n",
    "        num_samples = len(X_train)\n",
    "\n",
    "        for epoch in range(epochs):\n",
    "            \n",
    "            indices = np.arange(num_samples)\n",
    "            np.random.shuffle(indices)            \n",
    "            epoch_loss = 0\n",
    "            \n",
    "            # Mini-batch loop\n",
    "            for i in range(0, num_samples, batch_size):\n",
    "                batch_indices = indices[i:i + batch_size]\n",
    "                X_batch = X_train[batch_indices]\n",
    "                y_batch = y_train_one_hot[batch_indices]\n",
    "\n",
    "                y_pred = self.forward(X_batch)\n",
    "                \n",
    "                # Backward pass\n",
    "                self.backward(y_batch)\n",
    "                \n",
    "                # Calculate and accumulate loss\n",
    "                loss = self.loss.forward(y_pred, y_batch)\n",
    "                epoch_loss += loss\n",
    "            \n",
    "            # Calculate metrics\n",
    "            avg_loss = epoch_loss / (len(X_train) / batch_size)\n",
    "            \n",
    "            # Training accuracy\n",
    "            y_pred_train = self.forward(X_train)\n",
    "            y_pred_train_labels = np.argmax(y_pred_train, axis=1)\n",
    "            train_accuracy = np.mean(y_pred_train_labels == y_train)   \n",
    "\n",
    "            # Validation accuracy\n",
    "            y_pred_test = self.forward(X_test)\n",
    "            y_pred_test_labels = np.argmax(y_pred_test, axis=1)\n",
    "            val_accuracy = np.mean(y_pred_test_labels == y_test)\n",
    "\n",
    "            print(f\"Epoch {epoch+1}/{epochs} | Loss: {avg_loss:.4f} | Train Acc: {train_accuracy:.4f} | Val Acc: {val_accuracy:.4f}\")    \n"
   ]
  },
  {
   "cell_type": "code",
   "execution_count": 4,
   "id": "7a07508a",
   "metadata": {},
   "outputs": [
    {
     "name": "stdout",
     "output_type": "stream",
     "text": [
      "Training data shape: (54000, 784), labels shape: (54000,)\n",
      "Validation data shape: (6000, 784), labels shape: (6000,)\n",
      "Test data shape: (10000, 784), labels shape: (10000,)\n"
     ]
    }
   ],
   "source": [
    "# === DATA PREPARATION (FASHION MNIST)===\n",
    "\n",
    "from keras.datasets import fashion_mnist\n",
    "from sklearn.model_selection import train_test_split\n",
    "\n",
    "# Load the dataset\n",
    "(X_train_full, y_train_full), (X_test, y_test) = fashion_mnist.load_data()\n",
    "\n",
    "# Flatten the images and normalize pixel values (moved into fit function)\n",
    "X_train_full = X_train_full.reshape(-1, 28*28)\n",
    "X_test = X_test.reshape(-1, 28*28)\n",
    "\n",
    "# Split a validation set from the training data\n",
    "X_train, X_val, y_train, y_val = train_test_split(\n",
    "    X_train_full, y_train_full, test_size=0.1, random_state=42\n",
    ")\n",
    "\n",
    "print(f\"Training data shape: {X_train.shape}, labels shape: {y_train.shape}\")\n",
    "print(f\"Validation data shape: {X_val.shape}, labels shape: {y_val.shape}\")\n",
    "print(f\"Test data shape: {X_test.shape}, labels shape: {y_test.shape}\")"
   ]
  },
  {
   "cell_type": "code",
   "execution_count": 5,
   "id": "20271fd0",
   "metadata": {},
   "outputs": [
    {
     "name": "stdout",
     "output_type": "stream",
     "text": [
      "Training ANN using Adam Optimiser on Fashion MNIST\n",
      "Epoch 1/100 | Loss: 0.5709 | Train Acc: 0.8510 | Val Acc: 0.8462\n",
      "Epoch 2/100 | Loss: 0.3840 | Train Acc: 0.8669 | Val Acc: 0.8563\n",
      "Epoch 3/100 | Loss: 0.3429 | Train Acc: 0.8862 | Val Acc: 0.8765\n",
      "Epoch 4/100 | Loss: 0.3181 | Train Acc: 0.8918 | Val Acc: 0.8847\n",
      "Epoch 5/100 | Loss: 0.3019 | Train Acc: 0.8957 | Val Acc: 0.8832\n",
      "Epoch 6/100 | Loss: 0.2839 | Train Acc: 0.9026 | Val Acc: 0.8858\n",
      "Epoch 7/100 | Loss: 0.2724 | Train Acc: 0.9055 | Val Acc: 0.8883\n",
      "Epoch 8/100 | Loss: 0.2596 | Train Acc: 0.9100 | Val Acc: 0.8910\n",
      "Epoch 9/100 | Loss: 0.2503 | Train Acc: 0.9122 | Val Acc: 0.8892\n",
      "Epoch 10/100 | Loss: 0.2412 | Train Acc: 0.9210 | Val Acc: 0.8950\n",
      "Epoch 11/100 | Loss: 0.2347 | Train Acc: 0.9187 | Val Acc: 0.8940\n",
      "Epoch 12/100 | Loss: 0.2247 | Train Acc: 0.9187 | Val Acc: 0.8915\n",
      "Epoch 13/100 | Loss: 0.2180 | Train Acc: 0.9236 | Val Acc: 0.8943\n",
      "Epoch 14/100 | Loss: 0.2099 | Train Acc: 0.9222 | Val Acc: 0.8872\n",
      "Epoch 15/100 | Loss: 0.2098 | Train Acc: 0.9279 | Val Acc: 0.8940\n",
      "Epoch 16/100 | Loss: 0.1982 | Train Acc: 0.9289 | Val Acc: 0.8912\n",
      "Epoch 17/100 | Loss: 0.1941 | Train Acc: 0.9272 | Val Acc: 0.8883\n",
      "Epoch 18/100 | Loss: 0.1869 | Train Acc: 0.9328 | Val Acc: 0.8932\n",
      "Epoch 19/100 | Loss: 0.1826 | Train Acc: 0.9374 | Val Acc: 0.8917\n",
      "Epoch 20/100 | Loss: 0.1768 | Train Acc: 0.9357 | Val Acc: 0.8908\n",
      "Epoch 21/100 | Loss: 0.1729 | Train Acc: 0.9379 | Val Acc: 0.8925\n",
      "Epoch 22/100 | Loss: 0.1673 | Train Acc: 0.9434 | Val Acc: 0.8897\n",
      "Epoch 23/100 | Loss: 0.1646 | Train Acc: 0.9452 | Val Acc: 0.8990\n",
      "Epoch 24/100 | Loss: 0.1612 | Train Acc: 0.9447 | Val Acc: 0.8968\n",
      "Epoch 25/100 | Loss: 0.1566 | Train Acc: 0.9455 | Val Acc: 0.8933\n",
      "Epoch 26/100 | Loss: 0.1529 | Train Acc: 0.9494 | Val Acc: 0.8977\n",
      "Epoch 27/100 | Loss: 0.1466 | Train Acc: 0.9496 | Val Acc: 0.8927\n",
      "Epoch 28/100 | Loss: 0.1458 | Train Acc: 0.9406 | Val Acc: 0.8865\n",
      "Epoch 29/100 | Loss: 0.1412 | Train Acc: 0.9577 | Val Acc: 0.8975\n",
      "Epoch 30/100 | Loss: 0.1347 | Train Acc: 0.9488 | Val Acc: 0.8925\n",
      "Epoch 31/100 | Loss: 0.1318 | Train Acc: 0.9574 | Val Acc: 0.8950\n",
      "Epoch 32/100 | Loss: 0.1285 | Train Acc: 0.9532 | Val Acc: 0.8908\n",
      "Epoch 33/100 | Loss: 0.1288 | Train Acc: 0.9547 | Val Acc: 0.8968\n",
      "Epoch 34/100 | Loss: 0.1270 | Train Acc: 0.9545 | Val Acc: 0.8923\n",
      "Epoch 35/100 | Loss: 0.1211 | Train Acc: 0.9573 | Val Acc: 0.8920\n",
      "Epoch 36/100 | Loss: 0.1206 | Train Acc: 0.9586 | Val Acc: 0.8922\n",
      "Epoch 37/100 | Loss: 0.1176 | Train Acc: 0.9542 | Val Acc: 0.8918\n",
      "Epoch 38/100 | Loss: 0.1110 | Train Acc: 0.9629 | Val Acc: 0.8972\n",
      "Epoch 39/100 | Loss: 0.1155 | Train Acc: 0.9642 | Val Acc: 0.8943\n",
      "Epoch 40/100 | Loss: 0.1099 | Train Acc: 0.9650 | Val Acc: 0.8913\n",
      "Epoch 41/100 | Loss: 0.1034 | Train Acc: 0.9594 | Val Acc: 0.8903\n",
      "Epoch 42/100 | Loss: 0.1048 | Train Acc: 0.9629 | Val Acc: 0.8928\n",
      "Epoch 43/100 | Loss: 0.1027 | Train Acc: 0.9674 | Val Acc: 0.8938\n",
      "Epoch 44/100 | Loss: 0.0975 | Train Acc: 0.9657 | Val Acc: 0.8972\n",
      "Epoch 45/100 | Loss: 0.1012 | Train Acc: 0.9711 | Val Acc: 0.8935\n",
      "Epoch 46/100 | Loss: 0.0954 | Train Acc: 0.9658 | Val Acc: 0.8942\n",
      "Epoch 47/100 | Loss: 0.0978 | Train Acc: 0.9668 | Val Acc: 0.8962\n",
      "Epoch 48/100 | Loss: 0.0899 | Train Acc: 0.9685 | Val Acc: 0.8935\n",
      "Epoch 49/100 | Loss: 0.0927 | Train Acc: 0.9714 | Val Acc: 0.8950\n",
      "Epoch 50/100 | Loss: 0.0965 | Train Acc: 0.9682 | Val Acc: 0.8913\n",
      "Epoch 51/100 | Loss: 0.0895 | Train Acc: 0.9712 | Val Acc: 0.8918\n",
      "Epoch 52/100 | Loss: 0.0844 | Train Acc: 0.9737 | Val Acc: 0.8963\n",
      "Epoch 53/100 | Loss: 0.0881 | Train Acc: 0.9678 | Val Acc: 0.8938\n",
      "Epoch 54/100 | Loss: 0.0857 | Train Acc: 0.9726 | Val Acc: 0.8930\n",
      "Epoch 55/100 | Loss: 0.0816 | Train Acc: 0.9708 | Val Acc: 0.8875\n",
      "Epoch 56/100 | Loss: 0.0817 | Train Acc: 0.9714 | Val Acc: 0.8910\n",
      "Epoch 57/100 | Loss: 0.0757 | Train Acc: 0.9721 | Val Acc: 0.8927\n",
      "Epoch 58/100 | Loss: 0.0793 | Train Acc: 0.9749 | Val Acc: 0.8910\n",
      "Epoch 59/100 | Loss: 0.0818 | Train Acc: 0.9716 | Val Acc: 0.8882\n",
      "Epoch 60/100 | Loss: 0.0757 | Train Acc: 0.9794 | Val Acc: 0.8918\n",
      "Epoch 61/100 | Loss: 0.0710 | Train Acc: 0.9769 | Val Acc: 0.8935\n",
      "Epoch 62/100 | Loss: 0.0727 | Train Acc: 0.9741 | Val Acc: 0.8907\n",
      "Epoch 63/100 | Loss: 0.0737 | Train Acc: 0.9748 | Val Acc: 0.8887\n",
      "Epoch 64/100 | Loss: 0.0677 | Train Acc: 0.9697 | Val Acc: 0.8865\n",
      "Epoch 65/100 | Loss: 0.0748 | Train Acc: 0.9763 | Val Acc: 0.8938\n",
      "Epoch 66/100 | Loss: 0.0681 | Train Acc: 0.9789 | Val Acc: 0.8918\n",
      "Epoch 67/100 | Loss: 0.0653 | Train Acc: 0.9757 | Val Acc: 0.8893\n",
      "Epoch 68/100 | Loss: 0.0683 | Train Acc: 0.9784 | Val Acc: 0.8918\n",
      "Epoch 69/100 | Loss: 0.0734 | Train Acc: 0.9728 | Val Acc: 0.8923\n",
      "Epoch 70/100 | Loss: 0.0611 | Train Acc: 0.9840 | Val Acc: 0.8920\n",
      "Epoch 71/100 | Loss: 0.0648 | Train Acc: 0.9742 | Val Acc: 0.8865\n",
      "Epoch 72/100 | Loss: 0.0584 | Train Acc: 0.9793 | Val Acc: 0.8880\n",
      "Epoch 73/100 | Loss: 0.0600 | Train Acc: 0.9787 | Val Acc: 0.8928\n",
      "Epoch 74/100 | Loss: 0.0670 | Train Acc: 0.9800 | Val Acc: 0.8900\n",
      "Epoch 75/100 | Loss: 0.0637 | Train Acc: 0.9807 | Val Acc: 0.8912\n",
      "Epoch 76/100 | Loss: 0.0551 | Train Acc: 0.9775 | Val Acc: 0.8887\n",
      "Epoch 77/100 | Loss: 0.0579 | Train Acc: 0.9828 | Val Acc: 0.8928\n",
      "Epoch 78/100 | Loss: 0.0590 | Train Acc: 0.9756 | Val Acc: 0.8897\n",
      "Epoch 79/100 | Loss: 0.0590 | Train Acc: 0.9753 | Val Acc: 0.8917\n",
      "Epoch 80/100 | Loss: 0.0570 | Train Acc: 0.9748 | Val Acc: 0.8860\n",
      "Epoch 81/100 | Loss: 0.0617 | Train Acc: 0.9827 | Val Acc: 0.8900\n",
      "Epoch 82/100 | Loss: 0.0547 | Train Acc: 0.9810 | Val Acc: 0.8922\n",
      "Epoch 83/100 | Loss: 0.0499 | Train Acc: 0.9860 | Val Acc: 0.8945\n",
      "Epoch 84/100 | Loss: 0.0570 | Train Acc: 0.9820 | Val Acc: 0.8893\n",
      "Epoch 85/100 | Loss: 0.0536 | Train Acc: 0.9823 | Val Acc: 0.8912\n",
      "Epoch 86/100 | Loss: 0.0564 | Train Acc: 0.9745 | Val Acc: 0.8847\n",
      "Epoch 87/100 | Loss: 0.0533 | Train Acc: 0.9833 | Val Acc: 0.8917\n",
      "Epoch 88/100 | Loss: 0.0502 | Train Acc: 0.9781 | Val Acc: 0.8843\n",
      "Epoch 89/100 | Loss: 0.0552 | Train Acc: 0.9860 | Val Acc: 0.8898\n",
      "Epoch 90/100 | Loss: 0.0478 | Train Acc: 0.9820 | Val Acc: 0.8878\n",
      "Epoch 91/100 | Loss: 0.0483 | Train Acc: 0.9791 | Val Acc: 0.8918\n",
      "Epoch 92/100 | Loss: 0.0511 | Train Acc: 0.9884 | Val Acc: 0.8908\n",
      "Epoch 93/100 | Loss: 0.0494 | Train Acc: 0.9811 | Val Acc: 0.8908\n",
      "Epoch 94/100 | Loss: 0.0515 | Train Acc: 0.9812 | Val Acc: 0.8858\n",
      "Epoch 95/100 | Loss: 0.0439 | Train Acc: 0.9845 | Val Acc: 0.8938\n",
      "Epoch 96/100 | Loss: 0.0431 | Train Acc: 0.9898 | Val Acc: 0.8910\n",
      "Epoch 97/100 | Loss: 0.0468 | Train Acc: 0.9832 | Val Acc: 0.8883\n",
      "Epoch 98/100 | Loss: 0.0493 | Train Acc: 0.9810 | Val Acc: 0.8870\n",
      "Epoch 99/100 | Loss: 0.0429 | Train Acc: 0.9813 | Val Acc: 0.8895\n",
      "Epoch 100/100 | Loss: 0.0438 | Train Acc: 0.9878 | Val Acc: 0.8922\n"
     ]
    }
   ],
   "source": [
    "# Using a ready-made Adam Optimiser function (to compare with Mini batch SGD):\n",
    "class Adam:\n",
    "    def __init__(self, lr=0.001, beta1=0.9, beta2=0.999, eps=1e-8):\n",
    "        self.lr = lr\n",
    "        self.beta1 = beta1\n",
    "        self.beta2 = beta2\n",
    "        self.eps = eps\n",
    "        self.m_w, self.v_w = {}, {}\n",
    "        self.m_b, self.v_b = {}, {}\n",
    "        self.t = 0\n",
    "\n",
    "    def update_params(self, layer):\n",
    "        if layer not in self.m_w:\n",
    "            self.m_w[layer] = np.zeros_like(layer.weights)\n",
    "            self.v_w[layer] = np.zeros_like(layer.weights)\n",
    "            self.m_b[layer] = np.zeros_like(layer.biases)\n",
    "            self.v_b[layer] = np.zeros_like(layer.biases)\n",
    "\n",
    "        self.t += 1\n",
    "\n",
    "        # === Weights update ===\n",
    "        self.m_w[layer] = self.beta1 * self.m_w[layer] + (1 - self.beta1) * layer.del_w\n",
    "        self.v_w[layer] = self.beta2 * self.v_w[layer] + (1 - self.beta2) * (layer.del_w ** 2)\n",
    "\n",
    "        m_hat_w = self.m_w[layer] / (1 - self.beta1 ** self.t)\n",
    "        v_hat_w = self.v_w[layer] / (1 - self.beta2 ** self.t)\n",
    "\n",
    "        layer.weights -= self.lr * m_hat_w / (np.sqrt(v_hat_w) + self.eps)\n",
    "\n",
    "        # === Biases update ===\n",
    "        self.m_b[layer] = self.beta1 * self.m_b[layer] + (1 - self.beta1) * layer.del_b\n",
    "        self.v_b[layer] = self.beta2 * self.v_b[layer] + (1 - self.beta2) * (layer.del_b ** 2)\n",
    "\n",
    "        m_hat_b = self.m_b[layer] / (1 - self.beta1 ** self.t)\n",
    "        v_hat_b = self.v_b[layer] / (1 - self.beta2 ** self.t)\n",
    "\n",
    "        layer.biases -= self.lr * m_hat_b / (np.sqrt(v_hat_b) + self.eps)\n",
    "\n",
    "print(\"Training ANN using Adam Optimiser on Fashion MNIST\")\n",
    "model_fm = MLP([784, 128, 64, 10], optimizer=Adam(lr=0.001))\n",
    "model_fm.fit(X_train, y_train, X_val, y_val, epochs=100, batch_size=128)"
   ]
  },
  {
   "cell_type": "code",
   "execution_count": 9,
   "id": "a46efc9e",
   "metadata": {},
   "outputs": [
    {
     "name": "stdout",
     "output_type": "stream",
     "text": [
      "Evaluating model on test data.: \n",
      "Final Test Accuracy (with Adam): 0.8817\n"
     ]
    }
   ],
   "source": [
    "# --- Test the trained model using scikit-learn's metric ---\n",
    "\n",
    "print(\"Evaluating model on test data.: \")\n",
    "# Import the necessary function\n",
    "from sklearn.metrics import accuracy_score\n",
    "y_pred_test= model_fm.forward(X_test / 255.0)\n",
    "y_pred_test_labels = np.argmax(y_pred_test, axis=1)\n",
    "\n",
    "# Calculate final test accuracy using sklearn\n",
    "test_accuracy = accuracy_score(y_test, y_pred_test_labels)\n",
    "\n",
    "print(f\"Final Test Accuracy (with Adam): {test_accuracy:.4f}\")"
   ]
  },
  {
   "cell_type": "code",
   "execution_count": 11,
   "id": "934b67a0",
   "metadata": {},
   "outputs": [
    {
     "name": "stdout",
     "output_type": "stream",
     "text": [
      "Final Test Accuracy: 88.17\n",
      "Number of misclassified samples: 1183\n"
     ]
    },
    {
     "data": {
      "image/png": "[encoded data removed]",
      "text/plain": [
       "<Figure size 640x480 with 1 Axes>"
      ]
     },
     "metadata": {},
     "output_type": "display_data"
    },
    {
     "data": {
      "image/png": "[encoded data removed]",
      "text/plain": [
       "<Figure size 640x480 with 1 Axes>"
      ]
     },
     "metadata": {},
     "output_type": "display_data"
    },
    {
     "data": {
      "image/png": "[encoded data removed]",
      "text/plain": [
       "<Figure size 640x480 with 1 Axes>"
      ]
     },
     "metadata": {},
     "output_type": "display_data"
    },
    {
     "data": {
      "image/png": "[encoded data removed]",
      "text/plain": [
       "<Figure size 640x480 with 1 Axes>"
      ]
     },
     "metadata": {},
     "output_type": "display_data"
    },
    {
     "data": {
      "image/png": "[encoded data removed]",
      "text/plain": [
       "<Figure size 640x480 with 1 Axes>"
      ]
     },
     "metadata": {},
     "output_type": "display_data"
    },
    {
     "data": {
      "image/png": "[encoded data removed]",
      "text/plain": [
       "<Figure size 640x480 with 1 Axes>"
      ]
     },
     "metadata": {},
     "output_type": "display_data"
    },
    {
     "data": {
      "image/png": "[encoded data removed]",
      "text/plain": [
       "<Figure size 640x480 with 1 Axes>"
      ]
     },
     "metadata": {},
     "output_type": "display_data"
    },
    {
     "data": {
      "image/png": "[encoded data removed]",
      "text/plain": [
       "<Figure size 640x480 with 1 Axes>"
      ]
     },
     "metadata": {},
     "output_type": "display_data"
    },
    {
     "data": {
      "image/png": "[encoded data removed]",
      "text/plain": [
       "<Figure size 640x480 with 1 Axes>"
      ]
     },
     "metadata": {},
     "output_type": "display_data"
    },
    {
     "data": {
      "image/png": "[encoded data removed]",
      "text/plain": [
       "<Figure size 640x480 with 1 Axes>"
      ]
     },
     "metadata": {},
     "output_type": "display_data"
    }
   ],
   "source": [
    "import numpy as np\n",
    "import matplotlib.pyplot as plt\n",
    "from sklearn.metrics import accuracy_score\n",
    "\n",
    "fashion_labels = {\n",
    "    0: \"T-shirt/top\",\n",
    "    1: \"Trouser\",\n",
    "    2: \"Pullover\",\n",
    "    3: \"Dress\",\n",
    "    4: \"Coat\",\n",
    "    5: \"Sandal\",\n",
    "    6: \"Shirt\",\n",
    "    7: \"Sneaker\",\n",
    "    8: \"Bag\",\n",
    "    9: \"Ankle boot\"\n",
    "}\n",
    "\n",
    "# --- Test the trained model ---\n",
    "X_test_norm = X_test / 255.0\n",
    "y_pred_test = model_fm.forward(X_test_norm)\n",
    "y_pred_labels = np.argmax(y_pred_test, axis=1)\n",
    "\n",
    "# Accuracy\n",
    "test_accuracy = accuracy_score(y_test, y_pred_labels)\n",
    "print(f\"Final Test Accuracy: {test_accuracy*100}\")\n",
    "\n",
    "# --- Find misclassified samples ---\n",
    "misclassified_idx = np.where(y_pred_labels != y_test)[0]\n",
    "print(f\"Number of misclassified samples: {len(misclassified_idx)}\")\n",
    "\n",
    "# Print a few examples\n",
    "num_examples = 10\n",
    "for i in misclassified_idx[:num_examples]:\n",
    "    plt.imshow(X_test[i].reshape(28, 28), cmap='gray')\n",
    "    true_name = fashion_labels[y_test[i]]\n",
    "    pred_name = fashion_labels[y_pred_labels[i]]\n",
    "    plt.title(f\"True: {true_name} | Pred: {pred_name}\")\n",
    "    plt.axis('off')\n",
    "    plt.show()\n"
   ]
  },
  {
   "cell_type": "code",
   "execution_count": 13,
   "id": "46fba282",
   "metadata": {},
   "outputs": [
    {
     "name": "stdout",
     "output_type": "stream",
     "text": [
      "Training ANN with Mini batch GD on Fashion Mnist\n",
      "Epoch 1/100 | Loss: 2.5289 | Train Acc: 0.1227 | Val Acc: 0.1195\n",
      "Epoch 2/100 | Loss: 2.3237 | Train Acc: 0.1901 | Val Acc: 0.1887\n",
      "Epoch 3/100 | Loss: 2.2141 | Train Acc: 0.2585 | Val Acc: 0.2560\n",
      "Epoch 4/100 | Loss: 2.1386 | Train Acc: 0.3291 | Val Acc: 0.3240\n",
      "Epoch 5/100 | Loss: 2.0796 | Train Acc: 0.3787 | Val Acc: 0.3777\n",
      "Epoch 6/100 | Loss: 2.0280 | Train Acc: 0.4144 | Val Acc: 0.4128\n",
      "Epoch 7/100 | Loss: 1.9794 | Train Acc: 0.4441 | Val Acc: 0.4423\n",
      "Epoch 8/100 | Loss: 1.9323 | Train Acc: 0.4709 | Val Acc: 0.4693\n",
      "Epoch 9/100 | Loss: 1.8867 | Train Acc: 0.4922 | Val Acc: 0.4923\n",
      "Epoch 10/100 | Loss: 1.8428 | Train Acc: 0.5107 | Val Acc: 0.5097\n",
      "Epoch 11/100 | Loss: 1.8006 | Train Acc: 0.5251 | Val Acc: 0.5282\n",
      "Epoch 12/100 | Loss: 1.7599 | Train Acc: 0.5379 | Val Acc: 0.5392\n",
      "Epoch 13/100 | Loss: 1.7208 | Train Acc: 0.5499 | Val Acc: 0.5522\n",
      "Epoch 14/100 | Loss: 1.6831 | Train Acc: 0.5591 | Val Acc: 0.5613\n",
      "Epoch 15/100 | Loss: 1.6467 | Train Acc: 0.5690 | Val Acc: 0.5710\n",
      "Epoch 16/100 | Loss: 1.6116 | Train Acc: 0.5781 | Val Acc: 0.5803\n",
      "Epoch 17/100 | Loss: 1.5778 | Train Acc: 0.5861 | Val Acc: 0.5918\n",
      "Epoch 18/100 | Loss: 1.5452 | Train Acc: 0.5945 | Val Acc: 0.6003\n",
      "Epoch 19/100 | Loss: 1.5139 | Train Acc: 0.6013 | Val Acc: 0.6093\n",
      "Epoch 20/100 | Loss: 1.4840 | Train Acc: 0.6076 | Val Acc: 0.6178\n",
      "Epoch 21/100 | Loss: 1.4552 | Train Acc: 0.6152 | Val Acc: 0.6243\n",
      "Epoch 22/100 | Loss: 1.4277 | Train Acc: 0.6218 | Val Acc: 0.6318\n",
      "Epoch 23/100 | Loss: 1.4013 | Train Acc: 0.6289 | Val Acc: 0.6375\n",
      "Epoch 24/100 | Loss: 1.3762 | Train Acc: 0.6355 | Val Acc: 0.6432\n",
      "Epoch 25/100 | Loss: 1.3522 | Train Acc: 0.6414 | Val Acc: 0.6487\n",
      "Epoch 26/100 | Loss: 1.3292 | Train Acc: 0.6470 | Val Acc: 0.6555\n",
      "Epoch 27/100 | Loss: 1.3074 | Train Acc: 0.6524 | Val Acc: 0.6592\n",
      "Epoch 28/100 | Loss: 1.2865 | Train Acc: 0.6569 | Val Acc: 0.6637\n",
      "Epoch 29/100 | Loss: 1.2666 | Train Acc: 0.6618 | Val Acc: 0.6670\n",
      "Epoch 30/100 | Loss: 1.2476 | Train Acc: 0.6657 | Val Acc: 0.6713\n",
      "Epoch 31/100 | Loss: 1.2294 | Train Acc: 0.6697 | Val Acc: 0.6743\n",
      "Epoch 32/100 | Loss: 1.2121 | Train Acc: 0.6732 | Val Acc: 0.6792\n",
      "Epoch 33/100 | Loss: 1.1956 | Train Acc: 0.6765 | Val Acc: 0.6818\n",
      "Epoch 34/100 | Loss: 1.1797 | Train Acc: 0.6792 | Val Acc: 0.6847\n",
      "Epoch 35/100 | Loss: 1.1646 | Train Acc: 0.6821 | Val Acc: 0.6873\n",
      "Epoch 36/100 | Loss: 1.1500 | Train Acc: 0.6851 | Val Acc: 0.6898\n",
      "Epoch 37/100 | Loss: 1.1361 | Train Acc: 0.6875 | Val Acc: 0.6925\n",
      "Epoch 38/100 | Loss: 1.1228 | Train Acc: 0.6900 | Val Acc: 0.6953\n",
      "Epoch 39/100 | Loss: 1.1100 | Train Acc: 0.6922 | Val Acc: 0.6982\n",
      "Epoch 40/100 | Loss: 1.0977 | Train Acc: 0.6939 | Val Acc: 0.6993\n",
      "Epoch 41/100 | Loss: 1.0859 | Train Acc: 0.6961 | Val Acc: 0.7015\n",
      "Epoch 42/100 | Loss: 1.0745 | Train Acc: 0.6977 | Val Acc: 0.7020\n",
      "Epoch 43/100 | Loss: 1.0636 | Train Acc: 0.6993 | Val Acc: 0.7030\n",
      "Epoch 44/100 | Loss: 1.0531 | Train Acc: 0.7011 | Val Acc: 0.7048\n",
      "Epoch 45/100 | Loss: 1.0430 | Train Acc: 0.7027 | Val Acc: 0.7068\n",
      "Epoch 46/100 | Loss: 1.0332 | Train Acc: 0.7043 | Val Acc: 0.7082\n",
      "Epoch 47/100 | Loss: 1.0238 | Train Acc: 0.7055 | Val Acc: 0.7088\n",
      "Epoch 48/100 | Loss: 1.0147 | Train Acc: 0.7068 | Val Acc: 0.7083\n",
      "Epoch 49/100 | Loss: 1.0060 | Train Acc: 0.7081 | Val Acc: 0.7102\n",
      "Epoch 50/100 | Loss: 0.9976 | Train Acc: 0.7093 | Val Acc: 0.7107\n",
      "Epoch 51/100 | Loss: 0.9894 | Train Acc: 0.7103 | Val Acc: 0.7128\n",
      "Epoch 52/100 | Loss: 0.9815 | Train Acc: 0.7109 | Val Acc: 0.7133\n",
      "Epoch 53/100 | Loss: 0.9738 | Train Acc: 0.7121 | Val Acc: 0.7150\n",
      "Epoch 54/100 | Loss: 0.9664 | Train Acc: 0.7129 | Val Acc: 0.7147\n",
      "Epoch 55/100 | Loss: 0.9592 | Train Acc: 0.7145 | Val Acc: 0.7157\n",
      "Epoch 56/100 | Loss: 0.9523 | Train Acc: 0.7154 | Val Acc: 0.7162\n",
      "Epoch 57/100 | Loss: 0.9456 | Train Acc: 0.7164 | Val Acc: 0.7168\n",
      "Epoch 58/100 | Loss: 0.9390 | Train Acc: 0.7173 | Val Acc: 0.7173\n",
      "Epoch 59/100 | Loss: 0.9326 | Train Acc: 0.7181 | Val Acc: 0.7185\n",
      "Epoch 60/100 | Loss: 0.9264 | Train Acc: 0.7191 | Val Acc: 0.7193\n",
      "Epoch 61/100 | Loss: 0.9204 | Train Acc: 0.7199 | Val Acc: 0.7195\n",
      "Epoch 62/100 | Loss: 0.9147 | Train Acc: 0.7208 | Val Acc: 0.7198\n",
      "Epoch 63/100 | Loss: 0.9089 | Train Acc: 0.7216 | Val Acc: 0.7218\n",
      "Epoch 64/100 | Loss: 0.9034 | Train Acc: 0.7226 | Val Acc: 0.7220\n",
      "Epoch 65/100 | Loss: 0.8981 | Train Acc: 0.7236 | Val Acc: 0.7227\n",
      "Epoch 66/100 | Loss: 0.8928 | Train Acc: 0.7245 | Val Acc: 0.7237\n",
      "Epoch 67/100 | Loss: 0.8877 | Train Acc: 0.7252 | Val Acc: 0.7237\n",
      "Epoch 68/100 | Loss: 0.8827 | Train Acc: 0.7257 | Val Acc: 0.7248\n",
      "Epoch 69/100 | Loss: 0.8779 | Train Acc: 0.7265 | Val Acc: 0.7253\n",
      "Epoch 70/100 | Loss: 0.8732 | Train Acc: 0.7270 | Val Acc: 0.7258\n",
      "Epoch 71/100 | Loss: 0.8686 | Train Acc: 0.7274 | Val Acc: 0.7260\n",
      "Epoch 72/100 | Loss: 0.8641 | Train Acc: 0.7281 | Val Acc: 0.7272\n",
      "Epoch 73/100 | Loss: 0.8597 | Train Acc: 0.7291 | Val Acc: 0.7277\n",
      "Epoch 74/100 | Loss: 0.8555 | Train Acc: 0.7301 | Val Acc: 0.7288\n",
      "Epoch 75/100 | Loss: 0.8513 | Train Acc: 0.7309 | Val Acc: 0.7295\n",
      "Epoch 76/100 | Loss: 0.8472 | Train Acc: 0.7316 | Val Acc: 0.7300\n",
      "Epoch 77/100 | Loss: 0.8432 | Train Acc: 0.7321 | Val Acc: 0.7302\n",
      "Epoch 78/100 | Loss: 0.8393 | Train Acc: 0.7327 | Val Acc: 0.7310\n",
      "Epoch 79/100 | Loss: 0.8355 | Train Acc: 0.7333 | Val Acc: 0.7313\n",
      "Epoch 80/100 | Loss: 0.8317 | Train Acc: 0.7342 | Val Acc: 0.7335\n",
      "Epoch 81/100 | Loss: 0.8281 | Train Acc: 0.7346 | Val Acc: 0.7335\n",
      "Epoch 82/100 | Loss: 0.8245 | Train Acc: 0.7351 | Val Acc: 0.7338\n",
      "Epoch 83/100 | Loss: 0.8210 | Train Acc: 0.7357 | Val Acc: 0.7357\n",
      "Epoch 84/100 | Loss: 0.8176 | Train Acc: 0.7361 | Val Acc: 0.7357\n",
      "Epoch 85/100 | Loss: 0.8143 | Train Acc: 0.7367 | Val Acc: 0.7367\n",
      "Epoch 86/100 | Loss: 0.8110 | Train Acc: 0.7370 | Val Acc: 0.7368\n",
      "Epoch 87/100 | Loss: 0.8077 | Train Acc: 0.7374 | Val Acc: 0.7368\n",
      "Epoch 88/100 | Loss: 0.8046 | Train Acc: 0.7379 | Val Acc: 0.7373\n",
      "Epoch 89/100 | Loss: 0.8015 | Train Acc: 0.7384 | Val Acc: 0.7380\n",
      "Epoch 90/100 | Loss: 0.7985 | Train Acc: 0.7389 | Val Acc: 0.7378\n",
      "Epoch 91/100 | Loss: 0.7955 | Train Acc: 0.7392 | Val Acc: 0.7387\n",
      "Epoch 92/100 | Loss: 0.7926 | Train Acc: 0.7394 | Val Acc: 0.7388\n",
      "Epoch 93/100 | Loss: 0.7897 | Train Acc: 0.7401 | Val Acc: 0.7393\n",
      "Epoch 94/100 | Loss: 0.7869 | Train Acc: 0.7409 | Val Acc: 0.7388\n",
      "Epoch 95/100 | Loss: 0.7842 | Train Acc: 0.7412 | Val Acc: 0.7400\n",
      "Epoch 96/100 | Loss: 0.7815 | Train Acc: 0.7412 | Val Acc: 0.7400\n",
      "Epoch 97/100 | Loss: 0.7788 | Train Acc: 0.7419 | Val Acc: 0.7408\n",
      "Epoch 98/100 | Loss: 0.7762 | Train Acc: 0.7423 | Val Acc: 0.7402\n",
      "Epoch 99/100 | Loss: 0.7737 | Train Acc: 0.7424 | Val Acc: 0.7417\n",
      "Epoch 100/100 | Loss: 0.7712 | Train Acc: 0.7436 | Val Acc: 0.7402\n"
     ]
    }
   ],
   "source": [
    "print(\"Training ANN with Mini batch GD on Fashion Mnist\")\n",
    "mlp_fm = MLP([784, 128, 64, 10], optimizer=SGD(learning_rate=0.01))\n",
    "mlp_fm.fit(X_train, y_train, X_val, y_val, epochs=100, batch_size=128)"
   ]
  },
  {
   "cell_type": "code",
   "execution_count": 15,
   "id": "96748269",
   "metadata": {},
   "outputs": [
    {
     "name": "stdout",
     "output_type": "stream",
     "text": [
      "Training data shape: (54000, 784), labels shape: (54000,)\n",
      "Validation data shape: (6000, 784), labels shape: (6000,)\n",
      "Test data shape: (10000, 784), labels shape: (10000,)\n"
     ]
    }
   ],
   "source": [
    "# === DATA PREPARATION (MNIST) ===\n",
    "\n",
    "from keras.datasets import mnist\n",
    "from sklearn.model_selection import train_test_split\n",
    "\n",
    "# Load the dataset\n",
    "(X_train_full1, y_train_full1), (X_test1, y_test1) = mnist.load_data()\n",
    "\n",
    "# Flatten the images and normalize pixel values (moved into fit function)\n",
    "# Images are 28x28, so each input sample has 784 features\n",
    "X_train_full1 = X_train_full1.reshape(-1, 28*28)\n",
    "X_test1 = X_test1.reshape(-1, 28*28)\n",
    "\n",
    "# Split a validation set from the training data\n",
    "X_train1, X_val1, y_train1, y_val1 = train_test_split(\n",
    "    X_train_full1, y_train_full1, test_size=0.1, random_state=42\n",
    ")\n",
    "\n",
    "print(f\"Training data shape: {X_train1.shape}, labels shape: {y_train1.shape}\")\n",
    "print(f\"Validation data shape: {X_val1.shape}, labels shape: {y_val1.shape}\")\n",
    "print(f\"Test data shape: {X_test1.shape}, labels shape: {y_test1.shape}\")"
   ]
  },
  {
   "cell_type": "code",
   "execution_count": 16,
   "id": "feb585f8",
   "metadata": {},
   "outputs": [
    {
     "name": "stdout",
     "output_type": "stream",
     "text": [
      "Epoch 1/100 | Loss: 0.3923 | Train Acc: 0.9521 | Val Acc: 0.9493\n",
      "Epoch 2/100 | Loss: 0.1353 | Train Acc: 0.9714 | Val Acc: 0.9647\n",
      "Epoch 3/100 | Loss: 0.0910 | Train Acc: 0.9806 | Val Acc: 0.9718\n",
      "Epoch 4/100 | Loss: 0.0680 | Train Acc: 0.9845 | Val Acc: 0.9733\n",
      "Epoch 5/100 | Loss: 0.0543 | Train Acc: 0.9881 | Val Acc: 0.9772\n",
      "Epoch 6/100 | Loss: 0.0441 | Train Acc: 0.9860 | Val Acc: 0.9737\n",
      "Epoch 7/100 | Loss: 0.0363 | Train Acc: 0.9920 | Val Acc: 0.9772\n",
      "Epoch 8/100 | Loss: 0.0293 | Train Acc: 0.9940 | Val Acc: 0.9763\n",
      "Epoch 9/100 | Loss: 0.0239 | Train Acc: 0.9949 | Val Acc: 0.9772\n",
      "Epoch 10/100 | Loss: 0.0197 | Train Acc: 0.9960 | Val Acc: 0.9788\n",
      "Epoch 11/100 | Loss: 0.0179 | Train Acc: 0.9947 | Val Acc: 0.9775\n",
      "Epoch 12/100 | Loss: 0.0152 | Train Acc: 0.9965 | Val Acc: 0.9782\n",
      "Epoch 13/100 | Loss: 0.0123 | Train Acc: 0.9959 | Val Acc: 0.9770\n",
      "Epoch 14/100 | Loss: 0.0110 | Train Acc: 0.9973 | Val Acc: 0.9795\n",
      "Epoch 15/100 | Loss: 0.0076 | Train Acc: 0.9984 | Val Acc: 0.9812\n",
      "Epoch 16/100 | Loss: 0.0093 | Train Acc: 0.9940 | Val Acc: 0.9778\n",
      "Epoch 17/100 | Loss: 0.0107 | Train Acc: 0.9955 | Val Acc: 0.9770\n",
      "Epoch 18/100 | Loss: 0.0091 | Train Acc: 0.9976 | Val Acc: 0.9785\n",
      "Epoch 19/100 | Loss: 0.0060 | Train Acc: 0.9975 | Val Acc: 0.9805\n",
      "Epoch 20/100 | Loss: 0.0093 | Train Acc: 0.9963 | Val Acc: 0.9785\n",
      "Epoch 21/100 | Loss: 0.0110 | Train Acc: 0.9941 | Val Acc: 0.9760\n",
      "Epoch 22/100 | Loss: 0.0063 | Train Acc: 0.9994 | Val Acc: 0.9808\n",
      "Epoch 23/100 | Loss: 0.0019 | Train Acc: 0.9999 | Val Acc: 0.9798\n",
      "Epoch 24/100 | Loss: 0.0042 | Train Acc: 0.9981 | Val Acc: 0.9782\n",
      "Epoch 25/100 | Loss: 0.0127 | Train Acc: 0.9970 | Val Acc: 0.9787\n",
      "Epoch 26/100 | Loss: 0.0064 | Train Acc: 0.9969 | Val Acc: 0.9755\n",
      "Epoch 27/100 | Loss: 0.0045 | Train Acc: 0.9990 | Val Acc: 0.9780\n",
      "Epoch 28/100 | Loss: 0.0040 | Train Acc: 0.9997 | Val Acc: 0.9800\n",
      "Epoch 29/100 | Loss: 0.0041 | Train Acc: 0.9959 | Val Acc: 0.9763\n",
      "Epoch 30/100 | Loss: 0.0104 | Train Acc: 0.9979 | Val Acc: 0.9782\n",
      "Epoch 31/100 | Loss: 0.0073 | Train Acc: 0.9990 | Val Acc: 0.9793\n",
      "Epoch 32/100 | Loss: 0.0040 | Train Acc: 0.9995 | Val Acc: 0.9803\n",
      "Epoch 33/100 | Loss: 0.0048 | Train Acc: 0.9990 | Val Acc: 0.9800\n",
      "Epoch 34/100 | Loss: 0.0025 | Train Acc: 0.9985 | Val Acc: 0.9808\n",
      "Epoch 35/100 | Loss: 0.0040 | Train Acc: 0.9989 | Val Acc: 0.9790\n",
      "Epoch 36/100 | Loss: 0.0067 | Train Acc: 0.9990 | Val Acc: 0.9798\n",
      "Epoch 37/100 | Loss: 0.0082 | Train Acc: 0.9984 | Val Acc: 0.9790\n",
      "Epoch 38/100 | Loss: 0.0063 | Train Acc: 0.9981 | Val Acc: 0.9785\n",
      "Epoch 39/100 | Loss: 0.0033 | Train Acc: 0.9999 | Val Acc: 0.9810\n",
      "Epoch 40/100 | Loss: 0.0009 | Train Acc: 1.0000 | Val Acc: 0.9823\n",
      "Epoch 41/100 | Loss: 0.0004 | Train Acc: 0.9998 | Val Acc: 0.9815\n",
      "Epoch 42/100 | Loss: 0.0129 | Train Acc: 0.9981 | Val Acc: 0.9778\n",
      "Epoch 43/100 | Loss: 0.0047 | Train Acc: 0.9994 | Val Acc: 0.9818\n",
      "Epoch 44/100 | Loss: 0.0016 | Train Acc: 0.9995 | Val Acc: 0.9820\n",
      "Epoch 45/100 | Loss: 0.0016 | Train Acc: 0.9982 | Val Acc: 0.9785\n",
      "Epoch 46/100 | Loss: 0.0070 | Train Acc: 0.9981 | Val Acc: 0.9785\n",
      "Epoch 47/100 | Loss: 0.0077 | Train Acc: 0.9994 | Val Acc: 0.9797\n",
      "Epoch 48/100 | Loss: 0.0036 | Train Acc: 0.9995 | Val Acc: 0.9813\n",
      "Epoch 49/100 | Loss: 0.0027 | Train Acc: 0.9989 | Val Acc: 0.9785\n",
      "Epoch 50/100 | Loss: 0.0061 | Train Acc: 0.9992 | Val Acc: 0.9795\n",
      "Epoch 51/100 | Loss: 0.0019 | Train Acc: 0.9999 | Val Acc: 0.9823\n",
      "Epoch 52/100 | Loss: 0.0033 | Train Acc: 0.9996 | Val Acc: 0.9810\n",
      "Epoch 53/100 | Loss: 0.0016 | Train Acc: 0.9993 | Val Acc: 0.9792\n",
      "Epoch 54/100 | Loss: 0.0054 | Train Acc: 0.9961 | Val Acc: 0.9742\n",
      "Epoch 55/100 | Loss: 0.0081 | Train Acc: 0.9987 | Val Acc: 0.9775\n",
      "Epoch 56/100 | Loss: 0.0025 | Train Acc: 0.9995 | Val Acc: 0.9797\n",
      "Epoch 57/100 | Loss: 0.0015 | Train Acc: 0.9987 | Val Acc: 0.9787\n",
      "Epoch 58/100 | Loss: 0.0059 | Train Acc: 0.9976 | Val Acc: 0.9787\n",
      "Epoch 59/100 | Loss: 0.0034 | Train Acc: 0.9986 | Val Acc: 0.9773\n",
      "Epoch 60/100 | Loss: 0.0059 | Train Acc: 0.9986 | Val Acc: 0.9778\n",
      "Epoch 61/100 | Loss: 0.0051 | Train Acc: 0.9994 | Val Acc: 0.9788\n",
      "Epoch 62/100 | Loss: 0.0007 | Train Acc: 0.9999 | Val Acc: 0.9797\n",
      "Epoch 63/100 | Loss: 0.0013 | Train Acc: 0.9990 | Val Acc: 0.9815\n",
      "Epoch 64/100 | Loss: 0.0075 | Train Acc: 0.9989 | Val Acc: 0.9772\n",
      "Epoch 65/100 | Loss: 0.0046 | Train Acc: 0.9992 | Val Acc: 0.9797\n",
      "Epoch 66/100 | Loss: 0.0045 | Train Acc: 0.9920 | Val Acc: 0.9737\n",
      "Epoch 67/100 | Loss: 0.0021 | Train Acc: 0.9994 | Val Acc: 0.9805\n",
      "Epoch 68/100 | Loss: 0.0008 | Train Acc: 0.9996 | Val Acc: 0.9810\n",
      "Epoch 69/100 | Loss: 0.0002 | Train Acc: 0.9996 | Val Acc: 0.9803\n",
      "Epoch 70/100 | Loss: 0.0119 | Train Acc: 0.9974 | Val Acc: 0.9773\n",
      "Epoch 71/100 | Loss: 0.0067 | Train Acc: 0.9992 | Val Acc: 0.9800\n",
      "Epoch 72/100 | Loss: 0.0027 | Train Acc: 0.9990 | Val Acc: 0.9792\n",
      "Epoch 73/100 | Loss: 0.0017 | Train Acc: 0.9993 | Val Acc: 0.9783\n",
      "Epoch 74/100 | Loss: 0.0031 | Train Acc: 0.9998 | Val Acc: 0.9790\n",
      "Epoch 75/100 | Loss: 0.0016 | Train Acc: 0.9998 | Val Acc: 0.9792\n",
      "Epoch 76/100 | Loss: 0.0028 | Train Acc: 0.9988 | Val Acc: 0.9775\n",
      "Epoch 77/100 | Loss: 0.0052 | Train Acc: 0.9988 | Val Acc: 0.9780\n",
      "Epoch 78/100 | Loss: 0.0055 | Train Acc: 0.9995 | Val Acc: 0.9808\n",
      "Epoch 79/100 | Loss: 0.0015 | Train Acc: 0.9998 | Val Acc: 0.9815\n",
      "Epoch 80/100 | Loss: 0.0037 | Train Acc: 0.9985 | Val Acc: 0.9797\n",
      "Epoch 81/100 | Loss: 0.0008 | Train Acc: 1.0000 | Val Acc: 0.9813\n",
      "Epoch 82/100 | Loss: 0.0035 | Train Acc: 0.9949 | Val Acc: 0.9768\n",
      "Epoch 83/100 | Loss: 0.0092 | Train Acc: 0.9993 | Val Acc: 0.9800\n",
      "Epoch 84/100 | Loss: 0.0010 | Train Acc: 0.9997 | Val Acc: 0.9808\n",
      "Epoch 85/100 | Loss: 0.0006 | Train Acc: 0.9999 | Val Acc: 0.9805\n",
      "Epoch 86/100 | Loss: 0.0040 | Train Acc: 0.9989 | Val Acc: 0.9797\n",
      "Epoch 87/100 | Loss: 0.0038 | Train Acc: 0.9995 | Val Acc: 0.9813\n",
      "Epoch 88/100 | Loss: 0.0025 | Train Acc: 0.9984 | Val Acc: 0.9780\n",
      "Epoch 89/100 | Loss: 0.0071 | Train Acc: 0.9990 | Val Acc: 0.9788\n",
      "Epoch 90/100 | Loss: 0.0019 | Train Acc: 0.9998 | Val Acc: 0.9818\n",
      "Epoch 91/100 | Loss: 0.0019 | Train Acc: 0.9995 | Val Acc: 0.9810\n",
      "Epoch 92/100 | Loss: 0.0032 | Train Acc: 0.9959 | Val Acc: 0.9770\n",
      "Epoch 93/100 | Loss: 0.0067 | Train Acc: 0.9994 | Val Acc: 0.9807\n",
      "Epoch 94/100 | Loss: 0.0018 | Train Acc: 0.9999 | Val Acc: 0.9808\n",
      "Epoch 95/100 | Loss: 0.0002 | Train Acc: 1.0000 | Val Acc: 0.9822\n",
      "Epoch 96/100 | Loss: 0.0000 | Train Acc: 1.0000 | Val Acc: 0.9818\n",
      "Epoch 97/100 | Loss: 0.0000 | Train Acc: 1.0000 | Val Acc: 0.9820\n",
      "Epoch 98/100 | Loss: 0.0000 | Train Acc: 1.0000 | Val Acc: 0.9820\n",
      "Epoch 99/100 | Loss: 0.0000 | Train Acc: 1.0000 | Val Acc: 0.9820\n",
      "Epoch 100/100 | Loss: 0.0000 | Train Acc: 1.0000 | Val Acc: 0.9822\n"
     ]
    }
   ],
   "source": [
    "model_mnist = MLP([784, 128, 64, 10], optimizer=Adam(lr=0.001))\n",
    "model_mnist.fit(X_train1, y_train1, X_val1, y_val1, epochs=100, batch_size=128)"
   ]
  },
  {
   "cell_type": "code",
   "execution_count": 20,
   "id": "cece4afc",
   "metadata": {},
   "outputs": [
    {
     "name": "stdout",
     "output_type": "stream",
     "text": [
      "Final Test Accuracy: 0.9811\n",
      "Number of misclassified samples: 189\n"
     ]
    },
    {
     "data": {
      "image/png": "[encoded data removed]",
      "text/plain": [
       "<Figure size 640x480 with 1 Axes>"
      ]
     },
     "metadata": {},
     "output_type": "display_data"
    },
    {
     "data": {
      "image/png": "[encoded data removed]",
      "text/plain": [
       "<Figure size 640x480 with 1 Axes>"
      ]
     },
     "metadata": {},
     "output_type": "display_data"
    },
    {
     "data": {
      "image/png": "[encoded data removed]",
      "text/plain": [
       "<Figure size 640x480 with 1 Axes>"
      ]
     },
     "metadata": {},
     "output_type": "display_data"
    },
    {
     "data": {
      "image/png": "[encoded data removed]",
      "text/plain": [
       "<Figure size 640x480 with 1 Axes>"
      ]
     },
     "metadata": {},
     "output_type": "display_data"
    },
    {
     "data": {
      "image/png": "[encoded data removed]",
      "text/plain": [
       "<Figure size 640x480 with 1 Axes>"
      ]
     },
     "metadata": {},
     "output_type": "display_data"
    },
    {
     "data": {
      "image/png": "[encoded data removed]",
      "text/plain": [
       "<Figure size 640x480 with 1 Axes>"
      ]
     },
     "metadata": {},
     "output_type": "display_data"
    },
    {
     "data": {
      "image/png": "[encoded data removed]",
      "text/plain": [
       "<Figure size 640x480 with 1 Axes>"
      ]
     },
     "metadata": {},
     "output_type": "display_data"
    },
    {
     "data": {
      "image/png": "[encoded data removed]",
      "text/plain": [
       "<Figure size 640x480 with 1 Axes>"
      ]
     },
     "metadata": {},
     "output_type": "display_data"
    },
    {
     "data": {
      "image/png": "[encoded data removed]",
      "text/plain": [
       "<Figure size 640x480 with 1 Axes>"
      ]
     },
     "metadata": {},
     "output_type": "display_data"
    },
    {
     "data": {
      "image/png": "[encoded data removed]",
      "text/plain": [
       "<Figure size 640x480 with 1 Axes>"
      ]
     },
     "metadata": {},
     "output_type": "display_data"
    }
   ],
   "source": [
    "# Normalize test data\n",
    "X_test_norm1 = X_test1.reshape(-1, 28*28) / 255.0\n",
    "\n",
    "# Forward pass\n",
    "y_pred_test1 = model_mnist.forward(X_test_norm1)\n",
    "y_pred_labels1 = np.argmax(y_pred_test1, axis=1)\n",
    "\n",
    "# Ensure test labels are integers\n",
    "y_test_labels1 = y_test1\n",
    "\n",
    "# Accuracy\n",
    "from sklearn.metrics import accuracy_score\n",
    "test_accuracy1 = accuracy_score(y_test_labels1, y_pred_labels1)\n",
    "print(f\"Final Test Accuracy: {test_accuracy1:.4f}\")\n",
    "\n",
    "# --- Find misclassified samples ---\n",
    "misclassified_idx1 = np.where(y_pred_labels1 != y_test1)[0]\n",
    "print(f\"Number of misclassified samples: {len(misclassified_idx1)}\")\n",
    "\n",
    "# Print a few examples\n",
    "num_examples1 = 10\n",
    "for i in misclassified_idx1[:num_examples1]:\n",
    "    plt.imshow(X_test1[i].reshape(28, 28), cmap='gray')\n",
    "    true_name = y_test1[i]\n",
    "    pred_name = y_pred_labels1[i]\n",
    "    plt.title(f\"True: {true_name} | Pred: {pred_name}\")\n",
    "    plt.axis('off')\n",
    "    plt.show()\n"
   ]
  }
 ],
 "metadata": {
  "kernelspec": {
   "display_name": ".venv",
   "language": "python",
   "name": "python3"
  },
  "language_info": {
   "codemirror_mode": {
    "name": "ipython",
    "version": 3
   },
   "file_extension": ".py",
   "mimetype": "text/x-python",
   "name": "python",
   "nbconvert_exporter": "python",
   "pygments_lexer": "ipython3",
   "version": "3.12.10"
  }
 },
 "nbformat": 4,
 "nbformat_minor": 5
}
